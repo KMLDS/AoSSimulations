{
 "cells": [
  {
   "cell_type": "markdown",
   "metadata": {},
   "source": [
    "# Simulations for __All of Statistics__\n",
    "\n",
    "The book [All of Statistics](http://link.springer.com/book/10.1007%2F978-0-387-21736-9) by Larry Wasserman has lots of great problems, but mostly without solutions.  Here I'm going to use simulated data to verify answers to a few interesting problems from that book. "
   ]
  },
  {
   "cell_type": "code",
   "execution_count": 3,
   "metadata": {
    "collapsed": false
   },
   "outputs": [],
   "source": [
    "%matplotlib inline\n",
    "import numpy as np\n",
    "import scipy as sp\n",
    "import scipy.stats as stats\n",
    "import matplotlib.pyplot as plt"
   ]
  },
  {
   "cell_type": "markdown",
   "metadata": {},
   "source": [
    "## Chapter 6\n",
    "### Exercise 2\n",
    "\n",
    "With $X_i \\sim Uniform(0, \\theta)$, with $i \\in [1, n]$, compute the bias, standard error, and mean squared error of the estimator $\\hat{\\theta} = \\max(\\{X_i\\})$.\n",
    "\n",
    "#### Analytic results\n",
    "\\begin{align}\n",
    "\\text{bias}[\\hat{\\theta}] &= -\\frac{\\theta}{n+1}, \\\\\n",
    "\\text{Var}[\\hat{\\theta}] &= \\frac{n\\theta^2}{(n+1)^2 (n+2)}, \\\\\n",
    "\\text{MSE}[\\hat{\\theta}] &= \\frac{(2n+2)\\theta^2}{(n+1)^2 (n+2)},\n",
    "\\end{align}\n",
    "\n",
    "and the standard error is just the square root of the variance in $\\hat{\\theta}$.\n",
    "\n",
    "#### Simulated results\n",
    "Here I'm simulating 100 experiments with 1000 samples drawn from a $Uniform(0, 1)$ distribution and then averaging over each experiment to obtain sample estimates for the bias, standard error, and MSE.  "
   ]
  },
  {
   "cell_type": "code",
   "execution_count": 25,
   "metadata": {
    "collapsed": false
   },
   "outputs": [
    {
     "name": "stdout",
     "output_type": "stream",
     "text": [
      "Sample bias: -0.001\n",
      "Calculated bias: -0.001\n",
      "Sample std. error: 0.001\n",
      "Calculated std. error: 0.001\n"
     ]
    }
   ],
   "source": [
    "true_theta = 1.\n",
    "n = 1000  # samples per experiment\n",
    "b = 100  # number of experiments\n",
    "data = stats.uniform.rvs(0, true_theta, size=(b, n))\n",
    "\n",
    "sample_bias = np.mean(np.max(data, axis=1) - true_theta * np.ones(b))\n",
    "calculated_bias = -1./(n + 1)\n",
    "print('Sample bias: ' + str(round(sample_bias, 3)))\n",
    "print('Calculated bias: ' + str(round(calculated_bias, 3)))\n",
    "\n",
    "sample_var = np.var(np.max(data, axis=1))\n",
    "calculated_var = n/((n+1)**2 * (n+2))\n",
    "print('Sample std. error: ' + str(round(np.sqrt(sample_var), 3)))\n",
    "print('Calculated std. error: ' + str(round(np.sqrt(calculated_var), 3)))"
   ]
  },
  {
   "cell_type": "markdown",
   "metadata": {},
   "source": [
    "The MSE will also be approximately the same between the sample and analytical results since MSE is just equal to the bias squared plus the standard error squared.\n",
    "\n",
    "#### Alternate Method: the Bootstrap\n",
    "\n",
    "In a real-world scenario it is unlikely we would be able to recreate the same experiment 100 times, and so the method above is mostly useful for theoretical applications (but not much else).  Here I use the Bootstrap on only a single experiment to achieve roughly the same thing (although still with the non-real-world scenario where we know the true value of $\\theta$):"
   ]
  },
  {
   "cell_type": "code",
   "execution_count": 52,
   "metadata": {
    "collapsed": false
   },
   "outputs": [],
   "source": [
    "data = stats.uniform.rvs(0, true_theta, 1000)\n",
    "bootstrap_data = np.random.choice(data, (b, n), replace=True)"
   ]
  },
  {
   "cell_type": "markdown",
   "metadata": {},
   "source": [
    "Now `bootstrap_data` has an analogous role to `data` in the first method, and I can just do the same steps as above:"
   ]
  },
  {
   "cell_type": "code",
   "execution_count": 53,
   "metadata": {
    "collapsed": false
   },
   "outputs": [
    {
     "name": "stdout",
     "output_type": "stream",
     "text": [
      "Bootstrap bias: -0.001\n"
     ]
    }
   ],
   "source": [
    "bootstrap_bias = np.mean(np.max(bootstrap_data, axis=1) - true_theta)\n",
    "print(\"Bootstrap bias: \" + str(round(bootstrap_bias, 3)))"
   ]
  },
  {
   "cell_type": "code",
   "execution_count": 54,
   "metadata": {
    "collapsed": false
   },
   "outputs": [
    {
     "name": "stdout",
     "output_type": "stream",
     "text": [
      "Bootstrap std. error: 0.001\n"
     ]
    }
   ],
   "source": [
    "bootstrap_var = np.var(np.max(bootstrap_data, axis=1))\n",
    "print(\"Bootstrap std. error: \" + str(round(np.sqrt(bootstrap_var), 3)))"
   ]
  },
  {
   "cell_type": "markdown",
   "metadata": {},
   "source": [
    "The results are close even though the variant using the Bootstrap has only 1% of the data where all 100 experiments were simulated."
   ]
  },
  {
   "cell_type": "code",
   "execution_count": 61,
   "metadata": {
    "collapsed": false
   },
   "outputs": [
    {
     "data": {
      "image/png": "[encoded data removed]",
      "text/plain": [
       "<matplotlib.figure.Figure at 0x7eff510a1358>"
      ]
     },
     "metadata": {},
     "output_type": "display_data"
    }
   ],
   "source": [
    "rolling_bias = [(i, np.mean(np.max(bootstrap_data[:, 0:i], axis=1)) - true_theta) \n",
    "                for i in range(1, bootstrap_data.shape[1]) if i % 20 == 0]\n",
    "calculated_rolling_bias = [(j, -1/(j + 1)) for j in range(1, bootstrap_data.shape[1]) if j % 20 == 0]\n",
    "plt.figure()\n",
    "plt.plot(*zip(*rolling_bias), linewidth=2.0, color='purple', label='Bootstrap estimate')\n",
    "plt.plot(*zip(*calculated_rolling_bias), linewidth=2.0, color='orange', linestyle='--', label='Calculated')\n",
    "plt.xlabel('n')\n",
    "plt.ylabel('Bias')\n",
    "plt.legend(loc=4)\n",
    "plt.show()"
   ]
  },
  {
   "cell_type": "code",
   "execution_count": null,
   "metadata": {
    "collapsed": true
   },
   "outputs": [],
   "source": [
    "rolling_se = [(i, np.std(np.max(bootstrap_data[:, 0:i], axis=1))) \n",
    "              for i in range(1, bootstrap_data.shape[1]) if i % 20 == 0] \n",
    "calculated_rolling_se = [(j, np)]"
   ]
  }
 ],
 "metadata": {
  "kernelspec": {
   "display_name": "Python 3",
   "language": "python",
   "name": "python3"
  },
  "language_info": {
   "codemirror_mode": {
    "name": "ipython",
    "version": 3
   },
   "file_extension": ".py",
   "mimetype": "text/x-python",
   "name": "python",
   "nbconvert_exporter": "python",
   "pygments_lexer": "ipython3",
   "version": "3.5.2"
  }
 },
 "nbformat": 4,
 "nbformat_minor": 2
}
